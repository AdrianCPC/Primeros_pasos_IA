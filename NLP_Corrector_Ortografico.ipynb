{
  "nbformat": 4,
  "nbformat_minor": 0,
  "metadata": {
    "colab": {
      "provenance": [],
      "authorship_tag": "ABX9TyN0fC0GhEH5oCk1v8L7fHQR",
      "include_colab_link": true
    },
    "kernelspec": {
      "name": "python3",
      "display_name": "Python 3"
    },
    "language_info": {
      "name": "python"
    }
  },
  "cells": [
    {
      "cell_type": "markdown",
      "metadata": {
        "id": "view-in-github",
        "colab_type": "text"
      },
      "source": [
        "<a href=\"https://colab.research.google.com/github/AdrianCPC/Primeros_pasos_IA/blob/main/NLP_Corrector_Ortografico.ipynb\" target=\"_parent\"><img src=\"https://colab.research.google.com/assets/colab-badge.svg\" alt=\"Open In Colab\"/></a>"
      ]
    },
    {
      "cell_type": "code",
      "source": [],
      "metadata": {
        "id": "3x7ZpfwaBFpj"
      },
      "execution_count": null,
      "outputs": []
    },
    {
      "cell_type": "code",
      "execution_count": 10,
      "metadata": {
        "colab": {
          "base_uri": "https://localhost:8080/"
        },
        "id": "9ob9ZYN_-Vbk",
        "outputId": "b4ea9c1d-4425-4304-8c7d-ad99919a4049"
      },
      "outputs": [
        {
          "output_type": "stream",
          "name": "stdout",
          "text": [
            "\n",
            "\"HTTP: Diferencias entre GET y POST \"\n",
            "2020-10-21\n",
            "\"Vea las diferencias entre los métodos GET y POST de HTTP. Consulta la funcionalidad de cada uno y cuándo usarlos en la web.\"\n",
            "\"yuri-oliveira\"\n",
            "\"yuri.oliveira@alura.com.br\"\n",
            "\"front-end\"\n",
            "\n",
            "Cuando vamos a acceder a un sistema web, es bastante común pasar por una pantalla de inicio de sesión, en la que ponemos nuestras credenciales para acceder al sistema.\n",
            "Estas informaciones deben ser confidenciales, sin embargo, cuando intenté iniciar sesión en una ap\n"
          ]
        }
      ],
      "source": [
        "with open('textos_articulo.txt', 'r') as f:\n",
        "  articulos = f.read()\n",
        "  print(articulos[:500])"
      ]
    },
    {
      "cell_type": "code",
      "source": [
        "texto_ejemplo = ' hola que tal'\n",
        "print(len(texto_ejemplo))\n",
        "palabras = texto_ejemplo.split()\n",
        "print(len(palabras))\n",
        "print(palabras)"
      ],
      "metadata": {
        "colab": {
          "base_uri": "https://localhost:8080/"
        },
        "id": "ghaoyZ_G_crP",
        "outputId": "fce92a08-6844-4764-82bd-1c749f779a06"
      },
      "execution_count": 6,
      "outputs": [
        {
          "output_type": "stream",
          "name": "stdout",
          "text": [
            "13\n",
            "3\n",
            "['hola', 'que', 'tal']\n"
          ]
        }
      ]
    },
    {
      "cell_type": "code",
      "source": [
        "texto_ejemplo = ' hola critian, ¿que tal?'\n",
        "print(len(texto_ejemplo))\n",
        "palabras = texto_ejemplo.split()\n",
        "print(len(palabras))\n",
        "print(palabras)"
      ],
      "metadata": {
        "colab": {
          "base_uri": "https://localhost:8080/"
        },
        "id": "VxDunWfS_ui0",
        "outputId": "b43c3845-a122-4ede-a572-c592a60d53de"
      },
      "execution_count": 7,
      "outputs": [
        {
          "output_type": "stream",
          "name": "stdout",
          "text": [
            "24\n",
            "4\n",
            "['hola', 'critian,', '¿que', 'tal?']\n"
          ]
        }
      ]
    },
    {
      "cell_type": "code",
      "source": [
        "#tokenizando para analizar cada palabra, pero aun con split que no permite separar de caractes especiales\n",
        "texto_ejemplo = ' hola critian, ¿que tal?'\n",
        "print(len(texto_ejemplo))\n",
        "tokens = texto_ejemplo.split()\n",
        "print(len(tokens))\n",
        "print(tokens)"
      ],
      "metadata": {
        "id": "d-F4f1q4AD3H"
      },
      "execution_count": null,
      "outputs": []
    }
  ]
}