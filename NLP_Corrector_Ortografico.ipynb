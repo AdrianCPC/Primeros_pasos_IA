{
  "nbformat": 4,
  "nbformat_minor": 0,
  "metadata": {
    "colab": {
      "provenance": [],
      "authorship_tag": "ABX9TyOI3StwsHeIX2f0hE+ZtgVo",
      "include_colab_link": true
    },
    "kernelspec": {
      "name": "python3",
      "display_name": "Python 3"
    },
    "language_info": {
      "name": "python"
    }
  },
  "cells": [
    {
      "cell_type": "markdown",
      "metadata": {
        "id": "view-in-github",
        "colab_type": "text"
      },
      "source": [
        "<a href=\"https://colab.research.google.com/github/AdrianCPC/Primeros_pasos_IA/blob/main/NLP_Corrector_Ortografico.ipynb\" target=\"_parent\"><img src=\"https://colab.research.google.com/assets/colab-badge.svg\" alt=\"Open In Colab\"/></a>"
      ]
    },
    {
      "cell_type": "code",
      "source": [],
      "metadata": {
        "id": "3x7ZpfwaBFpj"
      },
      "execution_count": null,
      "outputs": []
    },
    {
      "cell_type": "markdown",
      "source": [
        "#Importar el corpus"
      ],
      "metadata": {
        "id": "MawrXgB6jiED"
      }
    },
    {
      "cell_type": "code",
      "execution_count": 2,
      "metadata": {
        "colab": {
          "base_uri": "https://localhost:8080/"
        },
        "id": "9ob9ZYN_-Vbk",
        "outputId": "8034c9dc-b901-4812-d312-59c6200804f9"
      },
      "outputs": [
        {
          "output_type": "stream",
          "name": "stdout",
          "text": [
            "\n",
            "\"HTTP: Diferencias entre GET y POST \"\n",
            "2020-10-21\n",
            "\"Vea las diferencias entre los métodos GET y POST de HTTP. Consulta la funcionalidad de cada uno y cuándo usarlos en la web.\"\n",
            "\"yuri-oliveira\"\n",
            "\"yuri.oliveira@alura.com.br\"\n",
            "\"front-end\"\n",
            "\n",
            "Cuando vamos a acceder a un sistema web, es bastante común pasar por una pantalla de inicio de sesión, en la que ponemos nuestras credenciales para acceder al sistema.\n",
            "Estas informaciones deben ser confidenciales, sin embargo, cuando intenté iniciar sesión en una ap\n"
          ]
        }
      ],
      "source": [
        "with open('textos_articulo.txt', 'r') as f:\n",
        "  articulos = f.read()\n",
        "  print(articulos[:500])"
      ]
    },
    {
      "cell_type": "markdown",
      "source": [
        "#Separando palabras"
      ],
      "metadata": {
        "id": "YODdXBtKjl4i"
      }
    },
    {
      "cell_type": "code",
      "source": [
        "texto_ejemplo = ' hola que tal'\n",
        "print(len(texto_ejemplo))\n",
        "palabras = texto_ejemplo.split()\n",
        "print(len(palabras))\n",
        "print(palabras)"
      ],
      "metadata": {
        "colab": {
          "base_uri": "https://localhost:8080/"
        },
        "id": "ghaoyZ_G_crP",
        "outputId": "042fe252-04e8-4169-9edc-316be4126bc1"
      },
      "execution_count": 3,
      "outputs": [
        {
          "output_type": "stream",
          "name": "stdout",
          "text": [
            "13\n",
            "3\n",
            "['hola', 'que', 'tal']\n"
          ]
        }
      ]
    },
    {
      "cell_type": "code",
      "source": [
        "texto_ejemplo = ' hola critian, ¿que tal?'\n",
        "print(len(texto_ejemplo))\n",
        "palabras = texto_ejemplo.split()\n",
        "print(len(palabras))\n",
        "print(palabras)"
      ],
      "metadata": {
        "colab": {
          "base_uri": "https://localhost:8080/"
        },
        "id": "VxDunWfS_ui0",
        "outputId": "6a2c1c2f-88a0-49c5-a527-c36e72a5d7eb"
      },
      "execution_count": 4,
      "outputs": [
        {
          "output_type": "stream",
          "name": "stdout",
          "text": [
            "24\n",
            "4\n",
            "['hola', 'critian,', '¿que', 'tal?']\n"
          ]
        }
      ]
    },
    {
      "cell_type": "code",
      "source": [
        "#tokenizando para analizar cada palabra, pero aun con split que no permite separar de caractes especiales\n",
        "texto_ejemplo = ' hola critian, ¿que tal?'\n",
        "print(len(texto_ejemplo))\n",
        "tokens = texto_ejemplo.split()\n",
        "print(len(tokens))\n",
        "print(tokens)"
      ],
      "metadata": {
        "id": "d-F4f1q4AD3H",
        "colab": {
          "base_uri": "https://localhost:8080/"
        },
        "outputId": "fe9b5b57-0548-4242-cfbf-526cb4f8fe92"
      },
      "execution_count": 5,
      "outputs": [
        {
          "output_type": "stream",
          "name": "stdout",
          "text": [
            "24\n",
            "4\n",
            "['hola', 'critian,', '¿que', 'tal?']\n"
          ]
        }
      ]
    },
    {
      "cell_type": "markdown",
      "source": [
        "Lo que aprendimos en esta aula:\n",
        "\n",
        "El concepto de Procesamiento de Lenguaje Natural (PLN o NLP)\n",
        "\n",
        "En qué consiste un corrector ortográfico\n",
        "\n",
        "Cómo leer un archivo de texto usando python\n",
        "\n",
        "Separar las palabras usando split()"
      ],
      "metadata": {
        "id": "MAekAm5MD0wN"
      }
    },
    {
      "cell_type": "markdown",
      "source": [
        "#Tokenizacion"
      ],
      "metadata": {
        "id": "h1YbysBSjrcS"
      }
    },
    {
      "cell_type": "code",
      "source": [
        "import nltk\n",
        "nltk.download('punkt')"
      ],
      "metadata": {
        "colab": {
          "base_uri": "https://localhost:8080/"
        },
        "id": "Px8CG-uTjtqK",
        "outputId": "b75089a2-4e34-4cfd-d340-1ef4ea821a7d"
      },
      "execution_count": 7,
      "outputs": [
        {
          "output_type": "stream",
          "name": "stderr",
          "text": [
            "[nltk_data] Downloading package punkt to /root/nltk_data...\n",
            "[nltk_data]   Unzipping tokenizers/punkt.zip.\n"
          ]
        },
        {
          "output_type": "execute_result",
          "data": {
            "text/plain": [
              "True"
            ]
          },
          "metadata": {},
          "execution_count": 7
        }
      ]
    },
    {
      "cell_type": "code",
      "source": [
        "palabras_separadas = nltk.tokenize.word_tokenize(texto_ejemplo) #para ingles\n",
        "print(palabras_separadas)"
      ],
      "metadata": {
        "colab": {
          "base_uri": "https://localhost:8080/"
        },
        "id": "HyhuteJNj6ej",
        "outputId": "5b0559b1-1eb2-4258-8b28-250b54f6f927"
      },
      "execution_count": 9,
      "outputs": [
        {
          "output_type": "stream",
          "name": "stdout",
          "text": [
            "['hola', 'critian', ',', '¿que', 'tal', '?']\n"
          ]
        }
      ]
    },
    {
      "cell_type": "code",
      "source": [
        "from nltk.tokenize.toktok import ToktokTokenizer   #usa las funciones en espanol"
      ],
      "metadata": {
        "id": "8yxUKVxEkYpu"
      },
      "execution_count": 10,
      "outputs": []
    },
    {
      "cell_type": "code",
      "source": [
        "toktok = ToktokTokenizer()\n",
        "palabras_separadas = toktok.tokenize(texto_ejemplo)\n",
        "print(palabras_separadas)"
      ],
      "metadata": {
        "colab": {
          "base_uri": "https://localhost:8080/"
        },
        "id": "qcGM3P-fkqdz",
        "outputId": "26fbcbf7-ff6b-4c94-8ee5-cc92f5ed8e2e"
      },
      "execution_count": 11,
      "outputs": [
        {
          "output_type": "stream",
          "name": "stdout",
          "text": [
            "['hola', 'critian', ',', '¿', 'que', 'tal', '?']\n"
          ]
        }
      ]
    },
    {
      "cell_type": "code",
      "source": [
        "len(palabras_separadas)"
      ],
      "metadata": {
        "colab": {
          "base_uri": "https://localhost:8080/"
        },
        "id": "ybWBcQukk5qj",
        "outputId": "f7486969-1eaa-4d16-8b0f-5199e78bfaad"
      },
      "execution_count": 12,
      "outputs": [
        {
          "output_type": "execute_result",
          "data": {
            "text/plain": [
              "7"
            ]
          },
          "metadata": {},
          "execution_count": 12
        }
      ]
    },
    {
      "cell_type": "markdown",
      "source": [
        "#Excluyendo caracteres y puntuaciones"
      ],
      "metadata": {
        "id": "Yd4YGdVllcYl"
      }
    },
    {
      "cell_type": "code",
      "source": [
        "def separa_palabras(lista_tokens):\n",
        "  lista_palabras = []\n",
        "  for token in lista_tokens:\n",
        "    if token.isalpha():\n",
        "      lista_palabras.append(token)\n",
        "  return lista_palabras     #contabilizar cuantas palabras en el corpus se tiene"
      ],
      "metadata": {
        "id": "DplCogUUlWRS"
      },
      "execution_count": 13,
      "outputs": []
    },
    {
      "cell_type": "code",
      "source": [
        "separa_palabras(palabras_separadas)"
      ],
      "metadata": {
        "colab": {
          "base_uri": "https://localhost:8080/"
        },
        "id": "6KM5POVDmIQb",
        "outputId": "b1aca09f-e34b-4480-ceca-2a88cf84bbbe"
      },
      "execution_count": 14,
      "outputs": [
        {
          "output_type": "execute_result",
          "data": {
            "text/plain": [
              "['hola', 'critian', 'que', 'tal']"
            ]
          },
          "metadata": {},
          "execution_count": 14
        }
      ]
    },
    {
      "cell_type": "markdown",
      "source": [
        "#Contando palabras del corpus"
      ],
      "metadata": {
        "id": "XuTKFYXom93L"
      }
    },
    {
      "cell_type": "code",
      "source": [
        "palabras_separadas = toktok.tokenize(articulos)\n",
        "lista_palabras = separa_palabras(palabras_separadas)"
      ],
      "metadata": {
        "id": "j4ZDAHzImV1c"
      },
      "execution_count": 16,
      "outputs": []
    },
    {
      "cell_type": "code",
      "source": [
        "print(f'La cantidad de palabras en el corpus es de : {len(lista_palabras)}')"
      ],
      "metadata": {
        "colab": {
          "base_uri": "https://localhost:8080/"
        },
        "id": "A0LZ-rkKnltN",
        "outputId": "6de3578b-9516-480d-b402-1d59321ebe79"
      },
      "execution_count": 17,
      "outputs": [
        {
          "output_type": "stream",
          "name": "stdout",
          "text": [
            "La cantidad de palabras en el corpus es de : 40052\n"
          ]
        }
      ]
    },
    {
      "cell_type": "code",
      "source": [
        "lista_palabras[:20]"
      ],
      "metadata": {
        "colab": {
          "base_uri": "https://localhost:8080/"
        },
        "id": "fi7OwjTfn3Li",
        "outputId": "8acfc15d-94e6-4761-8144-f7d7f4eda094"
      },
      "execution_count": 18,
      "outputs": [
        {
          "output_type": "execute_result",
          "data": {
            "text/plain": [
              "['HTTP',\n",
              " 'Diferencias',\n",
              " 'entre',\n",
              " 'GET',\n",
              " 'y',\n",
              " 'POST',\n",
              " 'Vea',\n",
              " 'las',\n",
              " 'diferencias',\n",
              " 'entre',\n",
              " 'los',\n",
              " 'métodos',\n",
              " 'GET',\n",
              " 'y',\n",
              " 'POST',\n",
              " 'de',\n",
              " 'Consulta',\n",
              " 'la',\n",
              " 'funcionalidad',\n",
              " 'de']"
            ]
          },
          "metadata": {},
          "execution_count": 18
        }
      ]
    },
    {
      "cell_type": "markdown",
      "source": [
        "#Normalizando y eliminando duplicados"
      ],
      "metadata": {
        "id": "iRifwq0foMVr"
      }
    },
    {
      "cell_type": "code",
      "source": [
        "def normalizar(lista_palabras):\n",
        "  lista_normalizada = []\n",
        "\n",
        "  for palabra in lista_palabras:\n",
        "    lista_normalizada.append(palabra.lower())\n",
        "\n",
        "  return lista_normalizada"
      ],
      "metadata": {
        "id": "CEHJoU2ioZli"
      },
      "execution_count": 19,
      "outputs": []
    },
    {
      "cell_type": "code",
      "source": [
        "palabras_normalizadas = normalizar(lista_palabras)\n",
        "print(palabras_normalizadas[:20])"
      ],
      "metadata": {
        "colab": {
          "base_uri": "https://localhost:8080/"
        },
        "id": "7QLuIosno2xt",
        "outputId": "7ad3fa26-7238-424f-e7b6-f6d545d69279"
      },
      "execution_count": 20,
      "outputs": [
        {
          "output_type": "stream",
          "name": "stdout",
          "text": [
            "['http', 'diferencias', 'entre', 'get', 'y', 'post', 'vea', 'las', 'diferencias', 'entre', 'los', 'métodos', 'get', 'y', 'post', 'de', 'consulta', 'la', 'funcionalidad', 'de']\n"
          ]
        }
      ]
    },
    {
      "cell_type": "code",
      "source": [
        "#eliminacion duplicados\n",
        "\n",
        "palabras_unicas = set(palabras_normalizadas)\n",
        "print(len(palabras_unicas))"
      ],
      "metadata": {
        "colab": {
          "base_uri": "https://localhost:8080/"
        },
        "id": "d84UDFlrpG4t",
        "outputId": "ed92576b-c28e-4870-d446-037a4d888741"
      },
      "execution_count": 21,
      "outputs": [
        {
          "output_type": "stream",
          "name": "stdout",
          "text": [
            "5101\n"
          ]
        }
      ]
    },
    {
      "cell_type": "markdown",
      "source": [
        "Lo que aprendimos en esta aula:\n",
        "\n",
        "El concepto de tokenización\n",
        "\n",
        "A realizar el proceso de tokenización con las bibliotecas NLTK y toktok\n",
        "\n",
        "Separar caracteres alfabéticos de caracteres especiales con isalpha()\n",
        "\n",
        "Contar caracteres y palabras usando len()\n",
        "\n",
        "Proceso de Normalización con lower()\n",
        "\n",
        "Eliminar duplicados y repetidos con set()"
      ],
      "metadata": {
        "id": "LZ5888J1psIs"
      }
    }
  ]
}